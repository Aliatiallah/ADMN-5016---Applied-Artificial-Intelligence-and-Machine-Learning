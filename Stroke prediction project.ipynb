{
 "cells": [
  {
   "cell_type": "code",
   "execution_count": 1,
   "id": "df8075c2",
   "metadata": {
    "id": "df8075c2",
    "papermill": {
     "duration": 0.050525,
     "end_time": "2022-04-13T13:52:10.324960",
     "exception": false,
     "start_time": "2022-04-13T13:52:10.274435",
     "status": "completed"
    },
    "tags": []
   },
   "outputs": [],
   "source": [
    "import numpy as np \n",
    "import pandas as pd "
   ]
  },
  {
   "cell_type": "code",
   "execution_count": 2,
   "id": "41999bbf",
   "metadata": {
    "id": "41999bbf",
    "papermill": {
     "duration": 0.077869,
     "end_time": "2022-04-13T13:52:10.438086",
     "exception": false,
     "start_time": "2022-04-13T13:52:10.360217",
     "status": "completed"
    },
    "tags": []
   },
   "outputs": [],
   "source": [
    "stro=pd.read_csv(\"C:/Users/aliat/Desktop/Summer 2023/ADMN 5016 - Applied Artificial Intelligence and Machine Learning/healthcare-dataset-stroke-data.csv\")\n",
    "\n",
    "\n",
    "stro. drop('bmi', axis=1, inplace=True)\n"
   ]
  },
  {
   "cell_type": "code",
   "execution_count": 3,
   "id": "2fd0c48a",
   "metadata": {
    "colab": {
     "base_uri": "https://localhost:8080/",
     "height": 206
    },
    "id": "2fd0c48a",
    "outputId": "5d30f7bb-778a-4a81-c8a0-4da72b0610a7",
    "papermill": {
     "duration": 0.061398,
     "end_time": "2022-04-13T13:52:10.535043",
     "exception": false,
     "start_time": "2022-04-13T13:52:10.473645",
     "status": "completed"
    },
    "tags": []
   },
   "outputs": [
    {
     "data": {
      "text/html": [
       "<div>\n",
       "<style scoped>\n",
       "    .dataframe tbody tr th:only-of-type {\n",
       "        vertical-align: middle;\n",
       "    }\n",
       "\n",
       "    .dataframe tbody tr th {\n",
       "        vertical-align: top;\n",
       "    }\n",
       "\n",
       "    .dataframe thead th {\n",
       "        text-align: right;\n",
       "    }\n",
       "</style>\n",
       "<table border=\"1\" class=\"dataframe\">\n",
       "  <thead>\n",
       "    <tr style=\"text-align: right;\">\n",
       "      <th></th>\n",
       "      <th>id</th>\n",
       "      <th>gender</th>\n",
       "      <th>age</th>\n",
       "      <th>hypertension</th>\n",
       "      <th>heart_disease</th>\n",
       "      <th>ever_married</th>\n",
       "      <th>work_type</th>\n",
       "      <th>Residence_type</th>\n",
       "      <th>avg_glucose_level</th>\n",
       "      <th>smoking_status</th>\n",
       "      <th>stroke</th>\n",
       "    </tr>\n",
       "  </thead>\n",
       "  <tbody>\n",
       "    <tr>\n",
       "      <th>0</th>\n",
       "      <td>9046</td>\n",
       "      <td>Male</td>\n",
       "      <td>67.0</td>\n",
       "      <td>0</td>\n",
       "      <td>1</td>\n",
       "      <td>Yes</td>\n",
       "      <td>Private</td>\n",
       "      <td>Urban</td>\n",
       "      <td>228.69</td>\n",
       "      <td>formerly smoked</td>\n",
       "      <td>1</td>\n",
       "    </tr>\n",
       "    <tr>\n",
       "      <th>1</th>\n",
       "      <td>51676</td>\n",
       "      <td>Female</td>\n",
       "      <td>61.0</td>\n",
       "      <td>0</td>\n",
       "      <td>0</td>\n",
       "      <td>Yes</td>\n",
       "      <td>Self-employed</td>\n",
       "      <td>Rural</td>\n",
       "      <td>202.21</td>\n",
       "      <td>never smoked</td>\n",
       "      <td>1</td>\n",
       "    </tr>\n",
       "    <tr>\n",
       "      <th>2</th>\n",
       "      <td>31112</td>\n",
       "      <td>Male</td>\n",
       "      <td>80.0</td>\n",
       "      <td>0</td>\n",
       "      <td>1</td>\n",
       "      <td>Yes</td>\n",
       "      <td>Private</td>\n",
       "      <td>Rural</td>\n",
       "      <td>105.92</td>\n",
       "      <td>never smoked</td>\n",
       "      <td>1</td>\n",
       "    </tr>\n",
       "    <tr>\n",
       "      <th>3</th>\n",
       "      <td>60182</td>\n",
       "      <td>Female</td>\n",
       "      <td>49.0</td>\n",
       "      <td>0</td>\n",
       "      <td>0</td>\n",
       "      <td>Yes</td>\n",
       "      <td>Private</td>\n",
       "      <td>Urban</td>\n",
       "      <td>171.23</td>\n",
       "      <td>smokes</td>\n",
       "      <td>1</td>\n",
       "    </tr>\n",
       "    <tr>\n",
       "      <th>4</th>\n",
       "      <td>1665</td>\n",
       "      <td>Female</td>\n",
       "      <td>79.0</td>\n",
       "      <td>1</td>\n",
       "      <td>0</td>\n",
       "      <td>Yes</td>\n",
       "      <td>Self-employed</td>\n",
       "      <td>Rural</td>\n",
       "      <td>174.12</td>\n",
       "      <td>never smoked</td>\n",
       "      <td>1</td>\n",
       "    </tr>\n",
       "  </tbody>\n",
       "</table>\n",
       "</div>"
      ],
      "text/plain": [
       "      id  gender   age  hypertension  heart_disease ever_married  \\\n",
       "0   9046    Male  67.0             0              1          Yes   \n",
       "1  51676  Female  61.0             0              0          Yes   \n",
       "2  31112    Male  80.0             0              1          Yes   \n",
       "3  60182  Female  49.0             0              0          Yes   \n",
       "4   1665  Female  79.0             1              0          Yes   \n",
       "\n",
       "       work_type Residence_type  avg_glucose_level   smoking_status  stroke  \n",
       "0        Private          Urban             228.69  formerly smoked       1  \n",
       "1  Self-employed          Rural             202.21     never smoked       1  \n",
       "2        Private          Rural             105.92     never smoked       1  \n",
       "3        Private          Urban             171.23           smokes       1  \n",
       "4  Self-employed          Rural             174.12     never smoked       1  "
      ]
     },
     "execution_count": 3,
     "metadata": {},
     "output_type": "execute_result"
    }
   ],
   "source": [
    "stro.head()"
   ]
  },
  {
   "cell_type": "code",
   "execution_count": 4,
   "id": "a038fbcf",
   "metadata": {
    "colab": {
     "base_uri": "https://localhost:8080/"
    },
    "id": "a038fbcf",
    "outputId": "336a0c2f-5c17-4afd-ddae-a990f85f6dd2",
    "papermill": {
     "duration": 0.044741,
     "end_time": "2022-04-13T13:52:10.615063",
     "exception": false,
     "start_time": "2022-04-13T13:52:10.570322",
     "status": "completed"
    },
    "tags": []
   },
   "outputs": [
    {
     "data": {
      "text/plain": [
       "(5110, 11)"
      ]
     },
     "execution_count": 4,
     "metadata": {},
     "output_type": "execute_result"
    }
   ],
   "source": [
    "stro.shape"
   ]
  },
  {
   "cell_type": "code",
   "execution_count": 5,
   "id": "d35cac23",
   "metadata": {
    "colab": {
     "base_uri": "https://localhost:8080/"
    },
    "id": "d35cac23",
    "outputId": "219506eb-ca87-4b10-df52-a29e9e7069c9",
    "papermill": {
     "duration": 0.067104,
     "end_time": "2022-04-13T13:52:10.718023",
     "exception": false,
     "start_time": "2022-04-13T13:52:10.650919",
     "status": "completed"
    },
    "tags": []
   },
   "outputs": [
    {
     "name": "stdout",
     "output_type": "stream",
     "text": [
      "<class 'pandas.core.frame.DataFrame'>\n",
      "RangeIndex: 5110 entries, 0 to 5109\n",
      "Data columns (total 11 columns):\n",
      " #   Column             Non-Null Count  Dtype  \n",
      "---  ------             --------------  -----  \n",
      " 0   id                 5110 non-null   int64  \n",
      " 1   gender             5110 non-null   object \n",
      " 2   age                5110 non-null   float64\n",
      " 3   hypertension       5110 non-null   int64  \n",
      " 4   heart_disease      5110 non-null   int64  \n",
      " 5   ever_married       5110 non-null   object \n",
      " 6   work_type          5110 non-null   object \n",
      " 7   Residence_type     5110 non-null   object \n",
      " 8   avg_glucose_level  5110 non-null   float64\n",
      " 9   smoking_status     5110 non-null   object \n",
      " 10  stroke             5110 non-null   int64  \n",
      "dtypes: float64(2), int64(4), object(5)\n",
      "memory usage: 439.3+ KB\n"
     ]
    }
   ],
   "source": [
    "stro.info()"
   ]
  },
  {
   "cell_type": "code",
   "execution_count": 6,
   "id": "d7df6a3f",
   "metadata": {
    "colab": {
     "base_uri": "https://localhost:8080/"
    },
    "id": "d7df6a3f",
    "outputId": "9e8ee3fd-5558-4082-cc6f-5b08be835c62",
    "papermill": {
     "duration": 0.053486,
     "end_time": "2022-04-13T13:52:10.808107",
     "exception": false,
     "start_time": "2022-04-13T13:52:10.754621",
     "status": "completed"
    },
    "tags": []
   },
   "outputs": [
    {
     "data": {
      "text/plain": [
       "id                   0\n",
       "gender               0\n",
       "age                  0\n",
       "hypertension         0\n",
       "heart_disease        0\n",
       "ever_married         0\n",
       "work_type            0\n",
       "Residence_type       0\n",
       "avg_glucose_level    0\n",
       "smoking_status       0\n",
       "stroke               0\n",
       "dtype: int64"
      ]
     },
     "execution_count": 6,
     "metadata": {},
     "output_type": "execute_result"
    }
   ],
   "source": [
    "stro.isnull().sum()"
   ]
  },
  {
   "cell_type": "code",
   "execution_count": 7,
   "id": "6108ba14",
   "metadata": {
    "colab": {
     "base_uri": "https://localhost:8080/"
    },
    "id": "6108ba14",
    "outputId": "3f035094-1a5c-45df-f630-36a013192673",
    "papermill": {
     "duration": 0.047592,
     "end_time": "2022-04-13T13:52:10.892443",
     "exception": false,
     "start_time": "2022-04-13T13:52:10.844851",
     "status": "completed"
    },
    "tags": []
   },
   "outputs": [
    {
     "data": {
      "text/plain": [
       "id                     int64\n",
       "gender                object\n",
       "age                  float64\n",
       "hypertension           int64\n",
       "heart_disease          int64\n",
       "ever_married          object\n",
       "work_type             object\n",
       "Residence_type        object\n",
       "avg_glucose_level    float64\n",
       "smoking_status        object\n",
       "stroke                 int64\n",
       "dtype: object"
      ]
     },
     "execution_count": 7,
     "metadata": {},
     "output_type": "execute_result"
    }
   ],
   "source": [
    "stro.dtypes"
   ]
  },
  {
   "cell_type": "code",
   "execution_count": 8,
   "id": "b47580ae",
   "metadata": {
    "colab": {
     "base_uri": "https://localhost:8080/",
     "height": 300
    },
    "id": "b47580ae",
    "outputId": "349c3f72-c90b-421a-f068-f01b944e0e77",
    "papermill": {
     "duration": 0.075392,
     "end_time": "2022-04-13T13:52:11.005866",
     "exception": false,
     "start_time": "2022-04-13T13:52:10.930474",
     "status": "completed"
    },
    "tags": []
   },
   "outputs": [
    {
     "data": {
      "text/html": [
       "<div>\n",
       "<style scoped>\n",
       "    .dataframe tbody tr th:only-of-type {\n",
       "        vertical-align: middle;\n",
       "    }\n",
       "\n",
       "    .dataframe tbody tr th {\n",
       "        vertical-align: top;\n",
       "    }\n",
       "\n",
       "    .dataframe thead th {\n",
       "        text-align: right;\n",
       "    }\n",
       "</style>\n",
       "<table border=\"1\" class=\"dataframe\">\n",
       "  <thead>\n",
       "    <tr style=\"text-align: right;\">\n",
       "      <th></th>\n",
       "      <th>id</th>\n",
       "      <th>age</th>\n",
       "      <th>hypertension</th>\n",
       "      <th>heart_disease</th>\n",
       "      <th>avg_glucose_level</th>\n",
       "      <th>stroke</th>\n",
       "    </tr>\n",
       "  </thead>\n",
       "  <tbody>\n",
       "    <tr>\n",
       "      <th>count</th>\n",
       "      <td>5110.000000</td>\n",
       "      <td>5110.000000</td>\n",
       "      <td>5110.000000</td>\n",
       "      <td>5110.000000</td>\n",
       "      <td>5110.000000</td>\n",
       "      <td>5110.000000</td>\n",
       "    </tr>\n",
       "    <tr>\n",
       "      <th>mean</th>\n",
       "      <td>36517.829354</td>\n",
       "      <td>43.226614</td>\n",
       "      <td>0.097456</td>\n",
       "      <td>0.054012</td>\n",
       "      <td>106.147677</td>\n",
       "      <td>0.048728</td>\n",
       "    </tr>\n",
       "    <tr>\n",
       "      <th>std</th>\n",
       "      <td>21161.721625</td>\n",
       "      <td>22.612647</td>\n",
       "      <td>0.296607</td>\n",
       "      <td>0.226063</td>\n",
       "      <td>45.283560</td>\n",
       "      <td>0.215320</td>\n",
       "    </tr>\n",
       "    <tr>\n",
       "      <th>min</th>\n",
       "      <td>67.000000</td>\n",
       "      <td>0.080000</td>\n",
       "      <td>0.000000</td>\n",
       "      <td>0.000000</td>\n",
       "      <td>55.120000</td>\n",
       "      <td>0.000000</td>\n",
       "    </tr>\n",
       "    <tr>\n",
       "      <th>25%</th>\n",
       "      <td>17741.250000</td>\n",
       "      <td>25.000000</td>\n",
       "      <td>0.000000</td>\n",
       "      <td>0.000000</td>\n",
       "      <td>77.245000</td>\n",
       "      <td>0.000000</td>\n",
       "    </tr>\n",
       "    <tr>\n",
       "      <th>50%</th>\n",
       "      <td>36932.000000</td>\n",
       "      <td>45.000000</td>\n",
       "      <td>0.000000</td>\n",
       "      <td>0.000000</td>\n",
       "      <td>91.885000</td>\n",
       "      <td>0.000000</td>\n",
       "    </tr>\n",
       "    <tr>\n",
       "      <th>75%</th>\n",
       "      <td>54682.000000</td>\n",
       "      <td>61.000000</td>\n",
       "      <td>0.000000</td>\n",
       "      <td>0.000000</td>\n",
       "      <td>114.090000</td>\n",
       "      <td>0.000000</td>\n",
       "    </tr>\n",
       "    <tr>\n",
       "      <th>max</th>\n",
       "      <td>72940.000000</td>\n",
       "      <td>82.000000</td>\n",
       "      <td>1.000000</td>\n",
       "      <td>1.000000</td>\n",
       "      <td>271.740000</td>\n",
       "      <td>1.000000</td>\n",
       "    </tr>\n",
       "  </tbody>\n",
       "</table>\n",
       "</div>"
      ],
      "text/plain": [
       "                 id          age  hypertension  heart_disease  \\\n",
       "count   5110.000000  5110.000000   5110.000000    5110.000000   \n",
       "mean   36517.829354    43.226614      0.097456       0.054012   \n",
       "std    21161.721625    22.612647      0.296607       0.226063   \n",
       "min       67.000000     0.080000      0.000000       0.000000   \n",
       "25%    17741.250000    25.000000      0.000000       0.000000   \n",
       "50%    36932.000000    45.000000      0.000000       0.000000   \n",
       "75%    54682.000000    61.000000      0.000000       0.000000   \n",
       "max    72940.000000    82.000000      1.000000       1.000000   \n",
       "\n",
       "       avg_glucose_level       stroke  \n",
       "count        5110.000000  5110.000000  \n",
       "mean          106.147677     0.048728  \n",
       "std            45.283560     0.215320  \n",
       "min            55.120000     0.000000  \n",
       "25%            77.245000     0.000000  \n",
       "50%            91.885000     0.000000  \n",
       "75%           114.090000     0.000000  \n",
       "max           271.740000     1.000000  "
      ]
     },
     "execution_count": 8,
     "metadata": {},
     "output_type": "execute_result"
    }
   ],
   "source": [
    "stro.describe()"
   ]
  },
  {
   "cell_type": "code",
   "execution_count": 9,
   "id": "10cb6e2a",
   "metadata": {
    "id": "10cb6e2a",
    "papermill": {
     "duration": 1.051601,
     "end_time": "2022-04-13T13:52:12.095207",
     "exception": false,
     "start_time": "2022-04-13T13:52:11.043606",
     "status": "completed"
    },
    "tags": []
   },
   "outputs": [],
   "source": [
    "from sklearn.preprocessing import LabelEncoder\n"
   ]
  },
  {
   "cell_type": "code",
   "execution_count": 10,
   "id": "9582e6e0",
   "metadata": {
    "colab": {
     "base_uri": "https://localhost:8080/"
    },
    "id": "9582e6e0",
    "outputId": "bf49a394-e89a-430b-df2d-7b5700e2c731",
    "papermill": {
     "duration": 0.050082,
     "end_time": "2022-04-13T13:52:12.185580",
     "exception": false,
     "start_time": "2022-04-13T13:52:12.135498",
     "status": "completed"
    },
    "tags": []
   },
   "outputs": [
    {
     "data": {
      "text/plain": [
       "{0: 'Female', 1: 'Male', 2: 'Other'}"
      ]
     },
     "execution_count": 10,
     "metadata": {},
     "output_type": "execute_result"
    }
   ],
   "source": [
    "encoder = LabelEncoder()\n",
    "stro['gender'] = encoder.fit_transform(stro['gender'])\n",
    "gender = {index : label for index, label in enumerate(encoder.classes_)}\n",
    "gender"
   ]
  },
  {
   "cell_type": "code",
   "execution_count": 11,
   "id": "8a095cdd",
   "metadata": {
    "colab": {
     "base_uri": "https://localhost:8080/"
    },
    "id": "8a095cdd",
    "outputId": "986034c4-59ad-4a6f-e1ad-05ce0e33affd",
    "papermill": {
     "duration": 0.05105,
     "end_time": "2022-04-13T13:52:12.275217",
     "exception": false,
     "start_time": "2022-04-13T13:52:12.224167",
     "status": "completed"
    },
    "tags": []
   },
   "outputs": [
    {
     "data": {
      "text/plain": [
       "{0: 'No', 1: 'Yes'}"
      ]
     },
     "execution_count": 11,
     "metadata": {},
     "output_type": "execute_result"
    }
   ],
   "source": [
    "stro['ever_married'] = encoder.fit_transform(stro['ever_married'])\n",
    "ever_married = {index : label for index, label in enumerate(encoder.classes_)}\n",
    "ever_married"
   ]
  },
  {
   "cell_type": "code",
   "execution_count": 12,
   "id": "e3cdfeb8",
   "metadata": {
    "colab": {
     "base_uri": "https://localhost:8080/"
    },
    "id": "e3cdfeb8",
    "outputId": "afcb71d2-7066-4e53-f9d5-3b50045389a5",
    "papermill": {
     "duration": 0.050172,
     "end_time": "2022-04-13T13:52:12.364240",
     "exception": false,
     "start_time": "2022-04-13T13:52:12.314068",
     "status": "completed"
    },
    "tags": []
   },
   "outputs": [
    {
     "data": {
      "text/plain": [
       "{0: 'Govt_job',\n",
       " 1: 'Never_worked',\n",
       " 2: 'Private',\n",
       " 3: 'Self-employed',\n",
       " 4: 'children'}"
      ]
     },
     "execution_count": 12,
     "metadata": {},
     "output_type": "execute_result"
    }
   ],
   "source": [
    "stro['work_type'] = encoder.fit_transform(stro['work_type'])\n",
    "work_type = {index : label for index, label in enumerate(encoder.classes_)}\n",
    "work_type"
   ]
  },
  {
   "cell_type": "code",
   "execution_count": 13,
   "id": "c24564b7",
   "metadata": {
    "colab": {
     "base_uri": "https://localhost:8080/"
    },
    "id": "c24564b7",
    "outputId": "e35cd140-2836-4fc0-bae2-68b5cea06296",
    "papermill": {
     "duration": 0.050575,
     "end_time": "2022-04-13T13:52:12.454301",
     "exception": false,
     "start_time": "2022-04-13T13:52:12.403726",
     "status": "completed"
    },
    "tags": []
   },
   "outputs": [
    {
     "data": {
      "text/plain": [
       "{0: 'Rural', 1: 'Urban'}"
      ]
     },
     "execution_count": 13,
     "metadata": {},
     "output_type": "execute_result"
    }
   ],
   "source": [
    "stro['Residence_type'] = encoder.fit_transform(stro['Residence_type'])\n",
    "Residence_type = {index : label for index, label in enumerate(encoder.classes_)}\n",
    "Residence_type"
   ]
  },
  {
   "cell_type": "code",
   "execution_count": 14,
   "id": "8ce8ae2c",
   "metadata": {
    "colab": {
     "base_uri": "https://localhost:8080/"
    },
    "id": "8ce8ae2c",
    "outputId": "7da79c4f-b64c-46ea-e08d-3dd06dc247c8",
    "papermill": {
     "duration": 0.050359,
     "end_time": "2022-04-13T13:52:12.543765",
     "exception": false,
     "start_time": "2022-04-13T13:52:12.493406",
     "status": "completed"
    },
    "tags": []
   },
   "outputs": [
    {
     "data": {
      "text/plain": [
       "{0: 'Unknown', 1: 'formerly smoked', 2: 'never smoked', 3: 'smokes'}"
      ]
     },
     "execution_count": 14,
     "metadata": {},
     "output_type": "execute_result"
    }
   ],
   "source": [
    "stro['smoking_status'] = encoder.fit_transform(stro['smoking_status'])\n",
    "smoking_status = {index : label for index, label in enumerate(encoder.classes_)}\n",
    "smoking_status"
   ]
  },
  {
   "cell_type": "code",
   "execution_count": 15,
   "id": "686cbac0",
   "metadata": {
    "id": "686cbac0",
    "papermill": {
     "duration": 0.048874,
     "end_time": "2022-04-13T13:52:12.633366",
     "exception": false,
     "start_time": "2022-04-13T13:52:12.584492",
     "status": "completed"
    },
    "tags": []
   },
   "outputs": [],
   "source": [
    "x = stro.drop('stroke', axis=1)\n",
    "y = stro['stroke']"
   ]
  },
  {
   "cell_type": "code",
   "execution_count": 16,
   "id": "0d2fb86b",
   "metadata": {
    "id": "0d2fb86b",
    "papermill": {
     "duration": 0.218187,
     "end_time": "2022-04-13T13:52:12.890853",
     "exception": false,
     "start_time": "2022-04-13T13:52:12.672666",
     "status": "completed"
    },
    "tags": []
   },
   "outputs": [],
   "source": [
    "from sklearn.impute import SimpleImputer\n",
    "import numpy as np"
   ]
  },
  {
   "cell_type": "code",
   "execution_count": 17,
   "id": "8978f10e",
   "metadata": {
    "colab": {
     "base_uri": "https://localhost:8080/"
    },
    "id": "8978f10e",
    "outputId": "771bf9fc-7d5e-4280-aa37-34f0245893b6",
    "papermill": {
     "duration": 0.068662,
     "end_time": "2022-04-13T13:52:12.999403",
     "exception": false,
     "start_time": "2022-04-13T13:52:12.930741",
     "status": "completed"
    },
    "tags": []
   },
   "outputs": [
    {
     "name": "stdout",
     "output_type": "stream",
     "text": [
      "X Data is \n",
      " [[9.0460e+03 1.0000e+00 6.7000e+01 0.0000e+00 1.0000e+00 1.0000e+00\n",
      "  2.0000e+00 1.0000e+00 2.2869e+02 1.0000e+00]\n",
      " [5.1676e+04 0.0000e+00 6.1000e+01 0.0000e+00 0.0000e+00 1.0000e+00\n",
      "  3.0000e+00 0.0000e+00 2.0221e+02 2.0000e+00]\n",
      " [3.1112e+04 1.0000e+00 8.0000e+01 0.0000e+00 1.0000e+00 1.0000e+00\n",
      "  2.0000e+00 0.0000e+00 1.0592e+02 2.0000e+00]\n",
      " [6.0182e+04 0.0000e+00 4.9000e+01 0.0000e+00 0.0000e+00 1.0000e+00\n",
      "  2.0000e+00 1.0000e+00 1.7123e+02 3.0000e+00]\n",
      " [1.6650e+03 0.0000e+00 7.9000e+01 1.0000e+00 0.0000e+00 1.0000e+00\n",
      "  3.0000e+00 0.0000e+00 1.7412e+02 2.0000e+00]\n",
      " [5.6669e+04 1.0000e+00 8.1000e+01 0.0000e+00 0.0000e+00 1.0000e+00\n",
      "  2.0000e+00 1.0000e+00 1.8621e+02 1.0000e+00]\n",
      " [5.3882e+04 1.0000e+00 7.4000e+01 1.0000e+00 1.0000e+00 1.0000e+00\n",
      "  2.0000e+00 0.0000e+00 7.0090e+01 2.0000e+00]\n",
      " [1.0434e+04 0.0000e+00 6.9000e+01 0.0000e+00 0.0000e+00 0.0000e+00\n",
      "  2.0000e+00 1.0000e+00 9.4390e+01 2.0000e+00]\n",
      " [2.7419e+04 0.0000e+00 5.9000e+01 0.0000e+00 0.0000e+00 1.0000e+00\n",
      "  2.0000e+00 0.0000e+00 7.6150e+01 0.0000e+00]\n",
      " [6.0491e+04 0.0000e+00 7.8000e+01 0.0000e+00 0.0000e+00 1.0000e+00\n",
      "  2.0000e+00 1.0000e+00 5.8570e+01 0.0000e+00]]\n",
      "y Data is \n",
      " 0    1\n",
      "1    1\n",
      "2    1\n",
      "3    1\n",
      "4    1\n",
      "5    1\n",
      "6    1\n",
      "7    1\n",
      "8    1\n",
      "9    1\n",
      "Name: stroke, dtype: int64\n"
     ]
    }
   ],
   "source": [
    "ImputedModule = SimpleImputer(missing_values = np.nan, strategy ='mean')\n",
    "ImputedX = ImputedModule.fit(x)\n",
    "X = ImputedX.transform(x)\n",
    "\n",
    "\n",
    "#X Data\n",
    "print('X Data is \\n' , X[:10])\n",
    "\n",
    "#y Data\n",
    "print('y Data is \\n' , y[:10])"
   ]
  },
  {
   "cell_type": "code",
   "execution_count": 18,
   "id": "319ae503",
   "metadata": {
    "id": "319ae503",
    "papermill": {
     "duration": 0.048454,
     "end_time": "2022-04-13T13:52:13.088772",
     "exception": false,
     "start_time": "2022-04-13T13:52:13.040318",
     "status": "completed"
    },
    "tags": []
   },
   "outputs": [],
   "source": [
    "from sklearn.preprocessing import MinMaxScaler"
   ]
  },
  {
   "cell_type": "code",
   "execution_count": 19,
   "id": "5a231708",
   "metadata": {
    "colab": {
     "base_uri": "https://localhost:8080/"
    },
    "id": "5a231708",
    "outputId": "d8beb39e-97d8-4ab5-f1d3-61a756bb601f",
    "papermill": {
     "duration": 0.056538,
     "end_time": "2022-04-13T13:52:13.186410",
     "exception": false,
     "start_time": "2022-04-13T13:52:13.129872",
     "status": "completed"
    },
    "tags": []
   },
   "outputs": [
    {
     "name": "stdout",
     "output_type": "stream",
     "text": [
      "x \n",
      " [[0.12321436 0.5        0.81689453 0.         1.         1.\n",
      "  0.5        1.         0.80126489 0.33333333]\n",
      " [0.70820468 0.         0.74365234 0.         0.         1.\n",
      "  0.75       0.         0.67902317 0.66666667]\n",
      " [0.42601512 0.5        0.97558594 0.         1.         1.\n",
      "  0.5        0.         0.23451205 0.66666667]\n",
      " [0.8249283  0.         0.59716797 0.         0.         1.\n",
      "  0.5        1.         0.53600776 1.        ]\n",
      " [0.02192856 0.         0.96337891 1.         0.         1.\n",
      "  0.75       0.         0.54934909 0.66666667]\n",
      " [0.77672115 0.5        0.98779297 0.         0.         1.\n",
      "  0.5        1.         0.60516111 0.33333333]\n",
      " [0.73847653 0.5        0.90234375 1.         1.         1.\n",
      "  0.5        0.         0.06910719 0.66666667]\n",
      " [0.14226119 0.         0.84130859 0.         0.         0.\n",
      "  0.5        1.         0.1812852  0.66666667]\n",
      " [0.37533792 0.         0.71923828 0.         0.         1.\n",
      "  0.5        0.         0.09708245 0.        ]\n",
      " [0.82916855 0.         0.95117188 0.         0.         1.\n",
      "  0.5        1.         0.01592651 0.        ]]\n",
      "y \n",
      " 0    1\n",
      "1    1\n",
      "2    1\n",
      "3    1\n",
      "4    1\n",
      "5    1\n",
      "6    1\n",
      "7    1\n",
      "8    1\n",
      "9    1\n",
      "Name: stroke, dtype: int64\n"
     ]
    }
   ],
   "source": [
    "scaler = MinMaxScaler(copy=True, feature_range=(0, 1))\n",
    "X = scaler.fit_transform(x)\n",
    "\n",
    "#showing data\n",
    "print('x \\n' , X[:10])\n",
    "print('y \\n' , y[:10])"
   ]
  },
  {
   "cell_type": "code",
   "execution_count": 20,
   "id": "11a44a38",
   "metadata": {
    "colab": {
     "base_uri": "https://localhost:8080/"
    },
    "id": "11a44a38",
    "outputId": "4498e78b-99c3-4ec4-bdfd-69b96893903b",
    "papermill": {
     "duration": 0.053654,
     "end_time": "2022-04-13T13:52:13.280961",
     "exception": false,
     "start_time": "2022-04-13T13:52:13.227307",
     "status": "completed"
    },
    "tags": []
   },
   "outputs": [
    {
     "data": {
      "text/plain": [
       "id                   0\n",
       "gender               0\n",
       "age                  0\n",
       "hypertension         0\n",
       "heart_disease        0\n",
       "ever_married         0\n",
       "work_type            0\n",
       "Residence_type       0\n",
       "avg_glucose_level    0\n",
       "smoking_status       0\n",
       "stroke               0\n",
       "dtype: int64"
      ]
     },
     "execution_count": 20,
     "metadata": {},
     "output_type": "execute_result"
    }
   ],
   "source": [
    "stro.isnull().sum()"
   ]
  },
  {
   "cell_type": "code",
   "execution_count": 21,
   "id": "9d77874b",
   "metadata": {
    "colab": {
     "base_uri": "https://localhost:8080/"
    },
    "id": "9d77874b",
    "outputId": "1dc48f84-5d8f-4aee-ceef-4baa5807a1ea",
    "papermill": {
     "duration": 0.054832,
     "end_time": "2022-04-13T13:52:13.380748",
     "exception": false,
     "start_time": "2022-04-13T13:52:13.325916",
     "status": "completed"
    },
    "tags": []
   },
   "outputs": [
    {
     "data": {
      "text/plain": [
       "id                   0\n",
       "gender               0\n",
       "age                  0\n",
       "hypertension         0\n",
       "heart_disease        0\n",
       "ever_married         0\n",
       "work_type            0\n",
       "Residence_type       0\n",
       "avg_glucose_level    0\n",
       "smoking_status       0\n",
       "stroke               0\n",
       "dtype: int64"
      ]
     },
     "execution_count": 21,
     "metadata": {},
     "output_type": "execute_result"
    }
   ],
   "source": [
    "stro.isnull().sum()"
   ]
  },
  {
   "cell_type": "code",
   "execution_count": 22,
   "id": "dec60e99",
   "metadata": {
    "id": "dec60e99",
    "papermill": {
     "duration": 0.050644,
     "end_time": "2022-04-13T13:52:13.476646",
     "exception": false,
     "start_time": "2022-04-13T13:52:13.426002",
     "status": "completed"
    },
    "tags": []
   },
   "outputs": [],
   "source": [
    "from sklearn.model_selection import train_test_split"
   ]
  },
  {
   "cell_type": "code",
   "execution_count": 23,
   "id": "5736b215",
   "metadata": {
    "id": "5736b215",
    "papermill": {
     "duration": 0.05326,
     "end_time": "2022-04-13T13:52:13.574844",
     "exception": false,
     "start_time": "2022-04-13T13:52:13.521584",
     "status": "completed"
    },
    "tags": []
   },
   "outputs": [],
   "source": [
    "x_train,x_test,y_train,y_test=train_test_split(x,y,test_size=0.25,random_state=0)"
   ]
  },
  {
   "cell_type": "code",
   "execution_count": 24,
   "id": "1d2df48b",
   "metadata": {
    "colab": {
     "base_uri": "https://localhost:8080/"
    },
    "id": "1d2df48b",
    "outputId": "f74c1857-b9ed-43fc-f1bc-8280da2a5f68",
    "papermill": {
     "duration": 0.052405,
     "end_time": "2022-04-13T13:52:13.673033",
     "exception": false,
     "start_time": "2022-04-13T13:52:13.620628",
     "status": "completed"
    },
    "tags": []
   },
   "outputs": [
    {
     "name": "stdout",
     "output_type": "stream",
     "text": [
      "x_train shape is: (3832, 10)\n"
     ]
    }
   ],
   "source": [
    "print(\"x_train shape is:\",x_train.shape)"
   ]
  },
  {
   "cell_type": "code",
   "execution_count": 25,
   "id": "70dffc78",
   "metadata": {
    "colab": {
     "base_uri": "https://localhost:8080/"
    },
    "id": "70dffc78",
    "outputId": "e88e250a-5325-4be2-e251-88a782f67b8a",
    "papermill": {
     "duration": 0.050753,
     "end_time": "2022-04-13T13:52:13.766992",
     "exception": false,
     "start_time": "2022-04-13T13:52:13.716239",
     "status": "completed"
    },
    "tags": []
   },
   "outputs": [
    {
     "name": "stdout",
     "output_type": "stream",
     "text": [
      "x_test shape is: (1278, 10)\n"
     ]
    }
   ],
   "source": [
    "print(\"x_test shape is:\",x_test.shape)"
   ]
  },
  {
   "cell_type": "code",
   "execution_count": 26,
   "id": "58748c11",
   "metadata": {
    "colab": {
     "base_uri": "https://localhost:8080/"
    },
    "id": "58748c11",
    "outputId": "a3d3f331-c90c-46dc-f7a7-ec47c1005cf3",
    "papermill": {
     "duration": 0.05033,
     "end_time": "2022-04-13T13:52:13.859336",
     "exception": false,
     "start_time": "2022-04-13T13:52:13.809006",
     "status": "completed"
    },
    "tags": []
   },
   "outputs": [
    {
     "name": "stdout",
     "output_type": "stream",
     "text": [
      "y_train shape is: (3832,)\n"
     ]
    }
   ],
   "source": [
    "print(\"y_train shape is:\",y_train.shape)"
   ]
  },
  {
   "cell_type": "code",
   "execution_count": 27,
   "id": "a74e5a67",
   "metadata": {
    "colab": {
     "base_uri": "https://localhost:8080/"
    },
    "id": "a74e5a67",
    "outputId": "d525130a-b6bd-4c97-cb3d-e9f4542b18a3",
    "papermill": {
     "duration": 0.050409,
     "end_time": "2022-04-13T13:52:13.951813",
     "exception": false,
     "start_time": "2022-04-13T13:52:13.901404",
     "status": "completed"
    },
    "tags": []
   },
   "outputs": [
    {
     "name": "stdout",
     "output_type": "stream",
     "text": [
      "y_test shape is: (1278,)\n"
     ]
    }
   ],
   "source": [
    "print(\"y_test shape is:\",y_test.shape)"
   ]
  },
  {
   "cell_type": "code",
   "execution_count": 28,
   "id": "ed4287b5",
   "metadata": {
    "id": "ed4287b5",
    "papermill": {
     "duration": 0.138664,
     "end_time": "2022-04-13T13:52:14.133089",
     "exception": false,
     "start_time": "2022-04-13T13:52:13.994425",
     "status": "completed"
    },
    "tags": []
   },
   "outputs": [],
   "source": [
    "from sklearn.ensemble import RandomForestClassifier\n"
   ]
  },
  {
   "cell_type": "code",
   "execution_count": 29,
   "id": "b2a6cb89",
   "metadata": {
    "colab": {
     "base_uri": "https://localhost:8080/"
    },
    "id": "b2a6cb89",
    "outputId": "d2907245-1a7d-48f6-eb58-41d3ded44045",
    "papermill": {
     "duration": 0.563235,
     "end_time": "2022-04-13T13:52:14.740808",
     "exception": false,
     "start_time": "2022-04-13T13:52:14.177573",
     "status": "completed"
    },
    "tags": []
   },
   "outputs": [
    {
     "name": "stdout",
     "output_type": "stream",
     "text": [
      "RandomForestClassifierModel Train Score is :  0.9519832985386222\n",
      "RandomForestClassifierModel Test Score is :  0.9491392801251957\n",
      "RandomForestClassifierModel features importances are :  [0.142858   0.01251376 0.41807824 0.03605833 0.06561893 0.04210783\n",
      " 0.04061351 0.00961344 0.19745019 0.0350878 ]\n",
      "----------------------------------------------------\n",
      "Predicted Value for RandomForestClassifierModel is :  [0 0 0 0 0 0 0 0 0 0]\n",
      "Prediction Probabilities Value for RandomForestClassifierModel is :  [[0.75659906 0.24340094]\n",
      " [0.99798118 0.00201882]\n",
      " [0.95507376 0.04492624]\n",
      " [0.99284076 0.00715924]\n",
      " [0.99765025 0.00234975]\n",
      " [0.9799451  0.0200549 ]\n",
      " [0.96180441 0.03819559]\n",
      " [0.95605642 0.04394358]\n",
      " [0.96244712 0.03755288]\n",
      " [0.77039061 0.22960939]]\n"
     ]
    }
   ],
   "source": [
    "RandomForestClassifierModel = RandomForestClassifier(criterion = 'gini',n_estimators=100,max_depth=5,random_state=21) #criterion can be also : entropy \n",
    "RandomForestClassifierModel.fit(x_train, y_train)\n",
    "\n",
    "#Calculating Details\n",
    "print('RandomForestClassifierModel Train Score is : ' , RandomForestClassifierModel.score(x_train, y_train))\n",
    "print('RandomForestClassifierModel Test Score is : ' , RandomForestClassifierModel.score(x_test, y_test))\n",
    "print('RandomForestClassifierModel features importances are : ' , RandomForestClassifierModel.feature_importances_)\n",
    "print('----------------------------------------------------')\n",
    "\n",
    "#Calculating Prediction\n",
    "y_pred = RandomForestClassifierModel.predict(x_test)\n",
    "y_pred_prob = RandomForestClassifierModel.predict_proba(x_test)\n",
    "print('Predicted Value for RandomForestClassifierModel is : ' , y_pred[:10])\n",
    "print('Prediction Probabilities Value for RandomForestClassifierModel is : ' , y_pred_prob[:10])"
   ]
  },
  {
   "cell_type": "code",
   "execution_count": 30,
   "id": "rWz0_dDUtob5",
   "metadata": {
    "colab": {
     "base_uri": "https://localhost:8080/"
    },
    "id": "rWz0_dDUtob5",
    "outputId": "33e654b2-8b28-4ff3-9bcf-bf7b1c99e6b8"
   },
   "outputs": [
    {
     "data": {
      "text/plain": [
       "{'bootstrap': True,\n",
       " 'ccp_alpha': 0.0,\n",
       " 'class_weight': None,\n",
       " 'criterion': 'gini',\n",
       " 'max_depth': 5,\n",
       " 'max_features': 'auto',\n",
       " 'max_leaf_nodes': None,\n",
       " 'max_samples': None,\n",
       " 'min_impurity_decrease': 0.0,\n",
       " 'min_samples_leaf': 1,\n",
       " 'min_samples_split': 2,\n",
       " 'min_weight_fraction_leaf': 0.0,\n",
       " 'n_estimators': 100,\n",
       " 'n_jobs': None,\n",
       " 'oob_score': False,\n",
       " 'random_state': 21,\n",
       " 'verbose': 0,\n",
       " 'warm_start': False}"
      ]
     },
     "execution_count": 30,
     "metadata": {},
     "output_type": "execute_result"
    }
   ],
   "source": [
    "RandomForestClassifierModel.get_params()"
   ]
  },
  {
   "cell_type": "code",
   "execution_count": 31,
   "id": "HQmoY45buKpM",
   "metadata": {
    "id": "HQmoY45buKpM"
   },
   "outputs": [],
   "source": [
    "from sklearn.model_selection import GridSearchCV\n"
   ]
  },
  {
   "cell_type": "code",
   "execution_count": 32,
   "id": "CFubMVFWtwVD",
   "metadata": {
    "colab": {
     "base_uri": "https://localhost:8080/"
    },
    "id": "CFubMVFWtwVD",
    "outputId": "38a83e3a-4df7-4a11-ddd1-1fce7d7bee3e"
   },
   "outputs": [
    {
     "name": "stderr",
     "output_type": "stream",
     "text": [
      "C:\\Users\\aliat\\anaconda3\\lib\\site-packages\\sklearn\\model_selection\\_validation.py:372: FitFailedWarning: \n",
      "60 fits failed out of a total of 180.\n",
      "The score on these train-test partitions for these parameters will be set to nan.\n",
      "If these failures are not expected, you can try to debug them by setting error_score='raise'.\n",
      "\n",
      "Below are more details about the failures:\n",
      "--------------------------------------------------------------------------------\n",
      "60 fits failed with the following error:\n",
      "Traceback (most recent call last):\n",
      "  File \"C:\\Users\\aliat\\anaconda3\\lib\\site-packages\\sklearn\\model_selection\\_validation.py\", line 680, in _fit_and_score\n",
      "    estimator.fit(X_train, y_train, **fit_params)\n",
      "  File \"C:\\Users\\aliat\\anaconda3\\lib\\site-packages\\sklearn\\ensemble\\_forest.py\", line 450, in fit\n",
      "    trees = Parallel(\n",
      "  File \"C:\\Users\\aliat\\anaconda3\\lib\\site-packages\\joblib\\parallel.py\", line 1043, in __call__\n",
      "    if self.dispatch_one_batch(iterator):\n",
      "  File \"C:\\Users\\aliat\\anaconda3\\lib\\site-packages\\joblib\\parallel.py\", line 861, in dispatch_one_batch\n",
      "    self._dispatch(tasks)\n",
      "  File \"C:\\Users\\aliat\\anaconda3\\lib\\site-packages\\joblib\\parallel.py\", line 779, in _dispatch\n",
      "    job = self._backend.apply_async(batch, callback=cb)\n",
      "  File \"C:\\Users\\aliat\\anaconda3\\lib\\site-packages\\joblib\\_parallel_backends.py\", line 208, in apply_async\n",
      "    result = ImmediateResult(func)\n",
      "  File \"C:\\Users\\aliat\\anaconda3\\lib\\site-packages\\joblib\\_parallel_backends.py\", line 572, in __init__\n",
      "    self.results = batch()\n",
      "  File \"C:\\Users\\aliat\\anaconda3\\lib\\site-packages\\joblib\\parallel.py\", line 262, in __call__\n",
      "    return [func(*args, **kwargs)\n",
      "  File \"C:\\Users\\aliat\\anaconda3\\lib\\site-packages\\joblib\\parallel.py\", line 262, in <listcomp>\n",
      "    return [func(*args, **kwargs)\n",
      "  File \"C:\\Users\\aliat\\anaconda3\\lib\\site-packages\\sklearn\\utils\\fixes.py\", line 216, in __call__\n",
      "    return self.function(*args, **kwargs)\n",
      "  File \"C:\\Users\\aliat\\anaconda3\\lib\\site-packages\\sklearn\\ensemble\\_forest.py\", line 185, in _parallel_build_trees\n",
      "    tree.fit(X, y, sample_weight=curr_sample_weight, check_input=False)\n",
      "  File \"C:\\Users\\aliat\\anaconda3\\lib\\site-packages\\sklearn\\tree\\_classes.py\", line 937, in fit\n",
      "    super().fit(\n",
      "  File \"C:\\Users\\aliat\\anaconda3\\lib\\site-packages\\sklearn\\tree\\_classes.py\", line 308, in fit\n",
      "    raise ValueError(\"max_features must be in (0, n_features]\")\n",
      "ValueError: max_features must be in (0, n_features]\n",
      "\n",
      "  warnings.warn(some_fits_failed_message, FitFailedWarning)\n",
      "C:\\Users\\aliat\\anaconda3\\lib\\site-packages\\sklearn\\model_selection\\_search.py:969: UserWarning: One or more of the test scores are non-finite: [-0.04801658 -0.04801658 -0.04801658 -0.04801658 -0.04801658 -0.04801658\n",
      " -0.04801658 -0.04801658 -0.04801658 -0.04801658 -0.04801658 -0.04801658\n",
      " -0.04801658 -0.04801658 -0.04801658 -0.04801658 -0.04801658 -0.04801658\n",
      " -0.04801658 -0.04801658 -0.04801658 -0.04801658 -0.04801658 -0.04801658\n",
      "         nan         nan         nan         nan         nan         nan\n",
      "         nan         nan         nan         nan         nan         nan]\n",
      "  warnings.warn(\n"
     ]
    },
    {
     "data": {
      "text/plain": [
       "GridSearchCV(cv=5,\n",
       "             estimator=RandomForestClassifier(max_depth=5, random_state=21),\n",
       "             param_grid={'max_features': [2, 4, 11],\n",
       "                         'min_samples_split': [2, 3, 4, 5],\n",
       "                         'n_estimators': [50, 100, 150]},\n",
       "             scoring='neg_mean_squared_error')"
      ]
     },
     "execution_count": 32,
     "metadata": {},
     "output_type": "execute_result"
    }
   ],
   "source": [
    "parameters = {'max_features':[2, 4, 11], 'n_estimators':[50, 100, 150], 'min_samples_split':[2, 3, 4, 5]}\n",
    "rf_search = GridSearchCV(RandomForestClassifierModel, parameters, scoring='neg_mean_squared_error', cv=5)\n",
    "rf_search.fit(x_train, y_train)"
   ]
  },
  {
   "cell_type": "code",
   "execution_count": 40,
   "id": "R4eMDsSJufe8",
   "metadata": {
    "id": "R4eMDsSJufe8"
   },
   "outputs": [],
   "source": [
    "y_pred = rf_search.predict(x_test)"
   ]
  },
  {
   "cell_type": "code",
   "execution_count": 41,
   "id": "5bfab6bd",
   "metadata": {
    "id": "5bfab6bd",
    "papermill": {
     "duration": 0.064692,
     "end_time": "2022-04-13T13:52:14.857221",
     "exception": false,
     "start_time": "2022-04-13T13:52:14.792529",
     "status": "completed"
    },
    "tags": []
   },
   "outputs": [],
   "source": [
    "from sklearn.metrics import accuracy_score\n"
   ]
  },
  {
   "cell_type": "code",
   "execution_count": 42,
   "id": "da9c0de4",
   "metadata": {
    "colab": {
     "base_uri": "https://localhost:8080/"
    },
    "id": "da9c0de4",
    "outputId": "b51e9e04-93c1-4b40-d85c-71839a528874",
    "papermill": {
     "duration": 0.059329,
     "end_time": "2022-04-13T13:52:14.968452",
     "exception": false,
     "start_time": "2022-04-13T13:52:14.909123",
     "status": "completed"
    },
    "tags": []
   },
   "outputs": [
    {
     "name": "stdout",
     "output_type": "stream",
     "text": [
      "Accuracy Score is :  1213\n"
     ]
    }
   ],
   "source": [
    "AccScore = accuracy_score(y_test, y_pred, normalize=False)\n",
    "print('Accuracy Score is : ', AccScore)"
   ]
  },
  {
   "cell_type": "code",
   "execution_count": 43,
   "id": "3f2d0a1b",
   "metadata": {
    "colab": {
     "base_uri": "https://localhost:8080/"
    },
    "id": "3f2d0a1b",
    "outputId": "94c9a8a3-a62a-4178-befa-06063f9e4895",
    "papermill": {
     "duration": 0.057079,
     "end_time": "2022-04-13T13:52:15.069970",
     "exception": false,
     "start_time": "2022-04-13T13:52:15.012891",
     "status": "completed"
    },
    "tags": []
   },
   "outputs": [
    {
     "name": "stdout",
     "output_type": "stream",
     "text": [
      "F1 Score is :  0.9491392801251957\n"
     ]
    }
   ],
   "source": [
    "from sklearn.metrics import f1_score\n",
    "#Calculating F1 Score  : 2 * (precision * recall) / (precision + recall)\n",
    "# f1_score(y_true, y_pred, labels=None, pos_label=1, average=’binary’, sample_weight=None)\n",
    "\n",
    "F1Score = f1_score(y_test, y_pred, average='micro') #it can be : binary,macro,weighted,samples\n",
    "print('F1 Score is : ', F1Score)"
   ]
  },
  {
   "cell_type": "code",
   "execution_count": 44,
   "id": "1f0f2b8e",
   "metadata": {
    "id": "1f0f2b8e",
    "papermill": {
     "duration": 0.219634,
     "end_time": "2022-04-13T13:52:15.351826",
     "exception": false,
     "start_time": "2022-04-13T13:52:15.132192",
     "status": "completed"
    },
    "tags": []
   },
   "outputs": [],
   "source": [
    "from sklearn.metrics import confusion_matrix\n",
    "import seaborn as sns\n",
    "import matplotlib.pyplot as plt"
   ]
  },
  {
   "cell_type": "code",
   "execution_count": 45,
   "id": "7418b4fd",
   "metadata": {
    "colab": {
     "base_uri": "https://localhost:8080/",
     "height": 321
    },
    "id": "7418b4fd",
    "outputId": "9f53493a-909b-435b-a021-a6da54334020",
    "papermill": {
     "duration": 0.309401,
     "end_time": "2022-04-13T13:52:15.708913",
     "exception": false,
     "start_time": "2022-04-13T13:52:15.399512",
     "status": "completed"
    },
    "tags": []
   },
   "outputs": [
    {
     "name": "stdout",
     "output_type": "stream",
     "text": [
      "Confusion Matrix is : \n",
      " [[1213    0]\n",
      " [  65    0]]\n"
     ]
    },
    {
     "data": {
      "image/png": "[encoded data removed]",
      "text/plain": [
       "<Figure size 640x480 with 2 Axes>"
      ]
     },
     "metadata": {},
     "output_type": "display_data"
    }
   ],
   "source": [
    "CM = confusion_matrix(y_test, y_pred)\n",
    "print('Confusion Matrix is : \\n', CM)\n",
    "\n",
    "# drawing confusion matrix\n",
    "sns.heatmap(CM, center = True,annot=True)\n",
    "plt.show()"
   ]
  },
  {
   "cell_type": "code",
   "execution_count": null,
   "id": "31d7a402",
   "metadata": {
    "id": "31d7a402",
    "papermill": {
     "duration": 0.049378,
     "end_time": "2022-04-13T13:52:15.808676",
     "exception": false,
     "start_time": "2022-04-13T13:52:15.759298",
     "status": "completed"
    },
    "tags": []
   },
   "outputs": [],
   "source": []
  },
  {
   "cell_type": "code",
   "execution_count": null,
   "id": "b19cbf9b-0ce7-471f-8ae2-bc395eddc9be",
   "metadata": {},
   "outputs": [],
   "source": []
  }
 ],
 "metadata": {
  "colab": {
   "provenance": []
  },
  "kernelspec": {
   "display_name": "Python 3 (ipykernel)",
   "language": "python",
   "name": "python3"
  },
  "language_info": {
   "codemirror_mode": {
    "name": "ipython",
    "version": 3
   },
   "file_extension": ".py",
   "mimetype": "text/x-python",
   "name": "python",
   "nbconvert_exporter": "python",
   "pygments_lexer": "ipython3",
   "version": "3.9.13"
  },
  "papermill": {
   "default_parameters": {},
   "duration": 16.566528,
   "end_time": "2022-04-13T13:52:16.665273",
   "environment_variables": {},
   "exception": null,
   "input_path": "__notebook__.ipynb",
   "output_path": "__notebook__.ipynb",
   "parameters": {},
   "start_time": "2022-04-13T13:52:00.098745",
   "version": "2.3.3"
  }
 },
 "nbformat": 4,
 "nbformat_minor": 5
}
